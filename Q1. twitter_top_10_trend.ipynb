{
 "cells": [
  {
   "cell_type": "markdown",
   "id": "f88df2e2",
   "metadata": {},
   "source": [
    "# Q1. twitter_top_10_trend\n"
   ]
  },
  {
   "cell_type": "code",
   "execution_count": 1,
   "id": "5c0d2d51",
   "metadata": {},
   "outputs": [
    {
     "name": "stdout",
     "output_type": "stream",
     "text": [
      "Requirement already satisfied: tweepy in c:\\users\\manju\\anaconda3\\lib\\site-packages (4.12.1)\n",
      "Requirement already satisfied: requests<3,>=2.27.0 in c:\\users\\manju\\anaconda3\\lib\\site-packages (from tweepy) (2.28.2)\n",
      "Requirement already satisfied: oauthlib<4,>=3.2.0 in c:\\users\\manju\\anaconda3\\lib\\site-packages (from tweepy) (3.2.2)\n",
      "Requirement already satisfied: requests-oauthlib<2,>=1.2.0 in c:\\users\\manju\\anaconda3\\lib\\site-packages (from tweepy) (1.3.1)\n",
      "Requirement already satisfied: urllib3<1.27,>=1.21.1 in c:\\users\\manju\\anaconda3\\lib\\site-packages (from requests<3,>=2.27.0->tweepy) (1.26.7)\n",
      "Requirement already satisfied: certifi>=2017.4.17 in c:\\users\\manju\\anaconda3\\lib\\site-packages (from requests<3,>=2.27.0->tweepy) (2021.10.8)\n",
      "Requirement already satisfied: idna<4,>=2.5 in c:\\users\\manju\\anaconda3\\lib\\site-packages (from requests<3,>=2.27.0->tweepy) (3.2)\n",
      "Requirement already satisfied: charset-normalizer<4,>=2 in c:\\users\\manju\\anaconda3\\lib\\site-packages (from requests<3,>=2.27.0->tweepy) (2.0.4)\n",
      "Requirement already satisfied: plotly in c:\\users\\manju\\anaconda3\\lib\\site-packages (5.12.0)\n",
      "Requirement already satisfied: tenacity>=6.2.0 in c:\\users\\manju\\anaconda3\\lib\\site-packages (from plotly) (8.1.0)\n",
      "Requirement already satisfied: requests in c:\\users\\manju\\anaconda3\\lib\\site-packages (2.28.2)\n",
      "Requirement already satisfied: certifi>=2017.4.17 in c:\\users\\manju\\anaconda3\\lib\\site-packages (from requests) (2021.10.8)\n",
      "Requirement already satisfied: urllib3<1.27,>=1.21.1 in c:\\users\\manju\\anaconda3\\lib\\site-packages (from requests) (1.26.7)\n",
      "Requirement already satisfied: charset-normalizer<4,>=2 in c:\\users\\manju\\anaconda3\\lib\\site-packages (from requests) (2.0.4)\n",
      "Requirement already satisfied: idna<4,>=2.5 in c:\\users\\manju\\anaconda3\\lib\\site-packages (from requests) (3.2)\n"
     ]
    }
   ],
   "source": [
    "!pip install tweepy\n",
    "import tweepy\n",
    "!pip install plotly\n",
    "import plotly.express as px\n",
    "!pip install requests\n",
    "import requests\n",
    "import pandas as pd\n",
    "import matplotlib.pyplot as plt\n",
    "import ipywidgets as widgets\n",
    "import seaborn as sn"
   ]
  },
  {
   "cell_type": "code",
   "execution_count": 2,
   "id": "8f376dab",
   "metadata": {},
   "outputs": [],
   "source": [
    "API_KEY = 'MM2gPHXgHgpQ3VjVTuxy4JvnP'\n",
    "API_SECRET_KEY = 'EZEgJrpVeLLdmDIjXmvS0WAfCDetLZN8yfIxOJURiNe0NHsZDm'\n",
    "ACCESS_TOKEN= '1538924473755537408-qHOakmkKhlENJVERSpse8Asm1rQTCt'\n",
    "ACCESS_TOKEN_SECRET = 'OLY3TZsCXittGUaveX3aEMogd2c6A5Le0bxBbpTq0SKJ8'"
   ]
  },
  {
   "cell_type": "code",
   "execution_count": 3,
   "id": "ab0c0eb0",
   "metadata": {},
   "outputs": [],
   "source": [
    "auth = tweepy.OAuthHandler(API_KEY,API_SECRET_KEY)\n",
    "auth.set_access_token(ACCESS_TOKEN,ACCESS_TOKEN_SECRET)\n",
    "api = tweepy.API(auth)"
   ]
  },
  {
   "cell_type": "code",
   "execution_count": 4,
   "id": "e6498a12",
   "metadata": {},
   "outputs": [],
   "source": [
    "style={'description_width':'initial'}\n",
    "woeid = widgets.IntText(\n",
    "    value=23424848,\n",
    "    description='India',\n",
    "    disabled=False)\n",
    "h1 = widgets.IntSlider(\n",
    "    value=10,\n",
    "    min=1,\n",
    "    max=50,\n",
    "    step=1,\n",
    "    description='Top:',\n",
    "    disabled=False,)\n",
    "h1.style.handle_color = 'lightblue'\n"
   ]
  },
  {
   "cell_type": "code",
   "execution_count": 5,
   "id": "58ed8db8",
   "metadata": {},
   "outputs": [],
   "source": [
    "def Trend(new,woid):\n",
    "    apidata = api.get_place_trends(id=woid)\n",
    "    df = pd.DataFrameapidata[0]['trends'][:new]\n",
    "    t = pd.to_datetime(apidata[0]['as_of']).astimezone('Asia/Kolkata').strftime('%d/%B/%Y %T IST')\n",
    "    place = apidata[0]['locations'][0]['name']\n",
    "    title = 'Top trend(s as of '+str(t)+' in '+str(place)\n",
    "    fig=px.bar(df,x='name',y='tweet_volume',\n",
    "           hover_data=['name','tweet_volume','url'],\n",
    "           color='name',labels={'name':'Topic','tweet_volume':'Volume'},\n",
    "           title=title)\n",
    "    fig.update_layout(title_x=0.5)\n",
    "    fig.show()\n"
   ]
  },
  {
   "cell_type": "code",
   "execution_count": 6,
   "id": "08afa9c0",
   "metadata": {},
   "outputs": [],
   "source": [
    "def visulization():\n",
    "    return widgets.interactive(Trend,new=limit_case,woid=woid)\n",
    "    visulization()"
   ]
  }
 ],
 "metadata": {
  "kernelspec": {
   "display_name": "Python 3 (ipykernel)",
   "language": "python",
   "name": "python3"
  },
  "language_info": {
   "codemirror_mode": {
    "name": "ipython",
    "version": 3
   },
   "file_extension": ".py",
   "mimetype": "text/x-python",
   "name": "python",
   "nbconvert_exporter": "python",
   "pygments_lexer": "ipython3",
   "version": "3.9.7"
  }
 },
 "nbformat": 4,
 "nbformat_minor": 5
}
